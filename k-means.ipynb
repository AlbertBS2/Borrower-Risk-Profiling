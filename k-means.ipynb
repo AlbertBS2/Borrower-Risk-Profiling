{
 "cells": [
  {
   "cell_type": "code",
   "execution_count": 1,
   "id": "f59a1abe",
   "metadata": {},
   "outputs": [
    {
     "name": "stdout",
     "output_type": "stream",
     "text": [
      "Loan data loaded successfully.\n",
      "Unemployment rate data loaded and merged successfully.\n",
      "Loan and unemployment data merged successfully.\n",
      "Data preprocessing completed successfully.\n",
      "Final data shape: (2260668, 19)\n",
      "   int_rate  grade  sub_grade  fico_range_low  fico_range_high  out_prncp  \\\n",
      "0     13.99      3         14           675.0            679.0        0.0   \n",
      "1     11.99      3         11           715.0            719.0        0.0   \n",
      "\n",
      "   out_prncp_inv   total_pymnt  total_pymnt_inv  total_rec_prncp  \\\n",
      "0            0.0   4421.723917          4421.72           3600.0   \n",
      "1            0.0  25679.660000         25679.66          24700.0   \n",
      "\n",
      "   total_rec_late_fee  recoveries  collection_recovery_fee  last_pymnt_amnt  \\\n",
      "0                 0.0         0.0                      0.0           122.67   \n",
      "1                 0.0         0.0                      0.0           926.35   \n",
      "\n",
      "   last_fico_range_high  last_fico_range_low  debt_settlement_flag  default  \\\n",
      "0                 564.0                560.0                     0        0   \n",
      "1                 699.0                695.0                     0        0   \n",
      "\n",
      "   issue_year  \n",
      "0        2015  \n",
      "1        2015  \n",
      "Numeric feature count: 18\n",
      "10 Explained variance ratio \n",
      "[0.24540545 0.21783364 0.13307511 0.10615284 0.06606898 0.06142098\n",
      " 0.05257269 0.04170157 0.04014693 0.02180257]\n",
      "10 Cum variance\n",
      "[0.24540545 0.46323909 0.59631419 0.70246703 0.76853602 0.829957\n",
      " 0.88252969 0.92423125 0.96437819 0.98618075]\n",
      "Print all features by PCA importance to -> pca_feature_importance_pointBiSerial.csv:\n",
      "Loadings for top features (first 5 PCs):\n",
      "                              PC1       PC2       PC3       PC4       PC5\n",
      "out_prncp               -0.170181 -0.216696 -0.361951  0.348960 -0.233851\n",
      "out_prncp_inv           -0.170174 -0.216690 -0.361951  0.348974 -0.233815\n",
      "last_fico_range_high    -0.298341  0.182882 -0.167438  0.109788  0.098008\n",
      "issue_year              -0.157617 -0.218250 -0.216285  0.185324 -0.147864\n",
      "fico_range_low          -0.311447  0.110522  0.121228  0.267244  0.473223\n",
      "fico_range_high         -0.311445  0.110521  0.121227  0.267245  0.473227\n",
      "last_fico_range_low     -0.256408  0.164490 -0.174911  0.107928  0.069540\n",
      "recoveries               0.180300 -0.092161  0.386246  0.423012 -0.064748\n",
      "collection_recovery_fee  0.175469 -0.089611  0.385302  0.429813 -0.076562\n",
      "total_pymnt_inv          0.132983  0.440492 -0.090125  0.177305 -0.166709\n",
      "Number of components to reach 95% variance: 9\n"
     ]
    }
   ],
   "source": [
    "from sklearn.decomposition import PCA\n",
    "from sklearn.impute import SimpleImputer\n",
    "from sklearn.preprocessing import StandardScaler\n",
    "from sklearn.decomposition import IncrementalPCA\n",
    "import numpy as np\n",
    "import pandas as pd\n",
    "from data_preprocessing import preprocess_data\n",
    "\n",
    "loan_data = \"data/accepted_2007_to_2018Q4.csv.gz\"\n",
    "unemployment_rate_data = [\"data/unemployment_rate_0.csv\", \"data/unemployment_rate_1.csv\", \"data/unemployment_rate_2.csv\", \"data/unemployment_rate_3.csv\", \"data/unemployment_rate_4.csv\"]\n",
    "\n",
    "data = preprocess_data(loan_data, unemployment_rate_data)\n",
    "\n",
    "\n",
    "low_pointBiSerial_corr_score_categories = [\"verification_status\", \"acc_open_past_24mths\", \"term\" ,\"num_tl_op_past_12m\",\"bc_open_to_buy\",\"inq_last_6mths\",\"y_unemployment_rate\",\"total_bc_limit\",\"percent_bc_gt_75\",\"bc_util\",\"revol_util\",\"tot_hi_cred_lim\",\"disbursement_method\",\"avg_cur_bal\",\"total_rev_hi_lim\",\"mo_sin_rcnt_tl\",\"mo_sin_rcnt_rev_tl_op\",\"mths_since_recent_inq\",\"tot_cur_bal\",\"all_util\",\"home_ownership\",\"open_acc_6m\",\"total_rec_int\",\"num_actv_rev_tl\",\"num_rev_tl_bal_gt_0\",\"hardship_flag\",\"mths_since_recent_bc\",\"il_util\",\"pymnt_plan\",\"max_bal_bc\",\"mort_acc\",\"open_rv_24m\",\"mths_since_rcnt_il\",\"mo_sin_old_rev_tl_op\",\"dti\",\"open_rv_12m\",\"installment\",\"application_type\",\"pub_rec\",\"inq_fi\",\"loan_amnt\",\"funded_amnt\",\"funded_amnt_inv\",\"inq_last_12m\",\"pub_rec_bankruptcies\",\"total_cu_tl\",\"num_op_rev_tl\",\"annual_inc\",\"num_actv_bc_tl\",\"revol_bal\",\"delinq_2yrs\",\"open_il_24m\",\"mo_sin_old_il_acct\",\"open_acc\",\"num_sats\",\"num_rev_accts\",\"purpose\",\"total_bal_il\",\"tax_liens\",\"total_acc\",\"num_tl_90g_dpd_24m\",\"open_act_il\",\"num_il_tl\",\"num_accts_ever_120_pd\",\"total_il_high_credit_limit\",\"collections_12_mths_ex_med\",\"total_bal_ex_mort\",\"num_bc_tl\",\"pct_tl_nvr_dlq\",\"emp_length\",\"acc_now_delinq\",\"num_tl_30dpd\",\"chargeoff_within_12_mths\",\"num_bc_sats\",\"delinq_amnt\",\"addr_state\",\"num_tl_120dpd_2m\",\"open_il_12m\", \"tot_coll_amt\"]\n",
    "data = data.drop(columns=low_pointBiSerial_corr_score_categories, errors='ignore')\n",
    "\n",
    "print(f'Final data shape: {data.shape}')\n",
    "pd.set_option('display.max_columns', None)\n",
    "print(data.head(2))\n",
    "\n",
    "# Drop non-numeric columns and the target column `default` from features (but keep for reference)\n",
    "if 'default' in data.columns:\n",
    "    y = data['default']\n",
    "else:\n",
    "    y = None\n",
    "numeric_columns = data.columns[data.dtypes.apply(lambda x: np.issubdtype(x, np.number))]\n",
    "\n",
    "# ISSUES WITH MEMORY USAGE\n",
    "data = data[numeric_columns] \n",
    "# non_numeric = [c for c in data.columns if c not in numeric_columns]\n",
    "# data.drop(columns=non_numeric, inplace=True)\n",
    "\n",
    "# Remove IDs\n",
    "for col in ['id','member_id']:\n",
    "    if col in data.columns:\n",
    "        data = data.drop(columns=[col])\n",
    "# Ensure target not included in features\n",
    "if 'default' in data.columns:\n",
    "    data = data.drop(columns=['default'])\n",
    "\n",
    "print(f'Numeric feature count: {data.shape[1]}')\n",
    "\n",
    "# Impute missing values with median\n",
    "imp = SimpleImputer(strategy='median')\n",
    "X_imp = imp.fit_transform(data)\n",
    "\n",
    "# Scale features\n",
    "scaler = StandardScaler()\n",
    "# Run PCA\n",
    "batch_size = 50000\n",
    "for i in range(0, X_imp.shape[0], batch_size):\n",
    "    scaler.partial_fit(X_imp[i:i+batch_size])\n",
    "\n",
    "# Transform in batches\n",
    "X_scaled = np.zeros_like(X_imp, dtype=np.float32)  # Saves memory vs float64\n",
    "for i in range(0, X_imp.shape[0], batch_size):\n",
    "    X_scaled[i:i+batch_size] = scaler.transform(X_imp[i:i+batch_size])\n",
    "\n",
    "n_components = min(50, X_scaled.shape[1])  # Choose desired number of components (50 is typical)\n",
    "ipca = IncrementalPCA(n_components=n_components)\n",
    "\n",
    "# Fit in chunks\n",
    "for i in range(0, X_scaled.shape[0], batch_size):\n",
    "    ipca.partial_fit(X_scaled[i:i+batch_size])\n",
    "\n",
    "# Transform in chunks\n",
    "X_pca_list = []\n",
    "for i in range(0, X_scaled.shape[0], batch_size):\n",
    "    X_pca_list.append(ipca.transform(X_scaled[i:i+batch_size]))\n",
    "\n",
    "X_pca = np.vstack(X_pca_list)\n",
    "\n",
    "\n",
    "# Explained variance\n",
    "explained = ipca.explained_variance_ratio_\n",
    "cum_explained = np.cumsum(explained)\n",
    "print('10 Explained variance ratio ')\n",
    "print(explained[:10])\n",
    "print('10 Cum variance')\n",
    "print(cum_explained[:10])\n",
    "\n",
    "# Loadings DataFrame (features x components)\n",
    "loadings = pd.DataFrame(ipca.components_.T, index=data.columns, columns=[f'PC{i+1}' for i in range(ipca.n_components_)])\n",
    "importance = (loadings.abs() * explained).sum(axis=1)\n",
    "importance = importance.sort_values(ascending=False)\n",
    "impl_df = pd.DataFrame({'feature': importance.index, 'importance': importance.values})\n",
    "# impl_df.to_csv('pca_feature_importance_pointBiSerial.csv', index=False)\n",
    "\n",
    "#print('Top 20 features by PCA importance:')\n",
    "# print(impl_df.head(20))\n",
    "print('Print all features by PCA importance to -> pca_feature_importance_pointBiSerial.csv:')\n",
    "\n",
    "top_feats = impl_df['feature'].head(10).tolist()\n",
    "print('Loadings for top features (first 5 PCs):')\n",
    "print(loadings.loc[top_feats, loadings.columns[:5]])\n",
    "\n",
    "# Components to reach 95% variance\n",
    "n_95 = np.searchsorted(cum_explained, 0.95) + 1\n",
    "print(f'Number of components to reach 95% variance: {n_95}')"
   ]
  },
  {
   "cell_type": "markdown",
   "id": "2dcf46eb",
   "metadata": {},
   "source": [
    "### K-Means"
   ]
  },
  {
   "cell_type": "code",
   "execution_count": null,
   "id": "a25f39c1",
   "metadata": {},
   "outputs": [
    {
     "name": "stdout",
     "output_type": "stream",
     "text": [
      "Running K-Means for Elbow Method...\n"
     ]
    },
    {
     "name": "stderr",
     "output_type": "stream",
     "text": [
      "c:\\Users\\Daniel\\anaconda3\\envs\\riskBorrow\\Lib\\site-packages\\threadpoolctl.py:1226: RuntimeWarning: \n",
      "Found Intel OpenMP ('libiomp') and LLVM OpenMP ('libomp') loaded at\n",
      "the same time. Both libraries are known to be incompatible and this\n",
      "can cause random crashes or deadlocks on Linux when loaded in the\n",
      "same Python program.\n",
      "Using threadpoolctl may cause crashes or deadlocks. For more\n",
      "information and possible workarounds, please see\n",
      "    https://github.com/joblib/threadpoolctl/blob/master/multiple_openmp.md\n",
      "\n",
      "  warnings.warn(msg, RuntimeWarning)\n"
     ]
    },
    {
     "data": {
      "image/png": "[encoded data removed]",
      "text/plain": [
       "<Figure size 800x500 with 1 Axes>"
      ]
     },
     "metadata": {},
     "output_type": "display_data"
    },
    {
     "name": "stdout",
     "output_type": "stream",
     "text": [
      "Elbow plot saved to kmeans_elbow_curve.png\n"
     ]
    }
   ],
   "source": [
    "import matplotlib.pyplot as plt\n",
    "from sklearn.cluster import KMeans\n",
    "\n",
    "inertia_values = []\n",
    "k_values = range(2, 30)  \n",
    "\n",
    "print(\"Running K-Means for Elbow Method...\")\n",
    "for k in k_values:\n",
    "    kmeans_test = KMeans(n_clusters=k, random_state=42, n_init=\"auto\")\n",
    "    kmeans_test.fit(X_pca)  # Using PCA-transformed data\n",
    "    inertia_values.append(kmeans_test.inertia_)\n",
    "\n",
    "# Plot Elbow Curve\n",
    "plt.figure(figsize=(8,5))\n",
    "plt.plot(k_values, inertia_values, marker='o')\n",
    "plt.xlabel(\"Number of clusters (k)\")\n",
    "plt.ylabel(\"WCSS\")\n",
    "plt.title(\"Elbow Method for Optimal k in K-Means\")\n",
    "plt.grid(True)\n",
    "plt.savefig(\"kmeans_elbow_curve.png\", dpi=200)\n",
    "plt.show()\n",
    "\n",
    "print(\"Elbow plot saved to kmeans_elbow_curve.png\")\n"
   ]
  },
  {
   "cell_type": "code",
   "execution_count": 3,
   "id": "4421fe9b",
   "metadata": {},
   "outputs": [
    {
     "name": "stdout",
     "output_type": "stream",
     "text": [
      "Fitting final KMeans with k=10...\n",
      "Cluster label distribution:\n",
      "1    483527\n",
      "4    442146\n",
      "0    287051\n",
      "6    282100\n",
      "3    225967\n",
      "8    203340\n",
      "5    186673\n",
      "2    113397\n",
      "9     28368\n",
      "7      8099\n",
      "Name: count, dtype: int64\n"
     ]
    }
   ],
   "source": [
    "k_final = 10 \n",
    "print(f\"Fitting final KMeans with k={k_final}...\")\n",
    "kmeans_final = KMeans(n_clusters=k_final, random_state=42, n_init=\"auto\")\n",
    "cluster_labels = kmeans_final.fit_predict(X_pca)\n",
    "\n",
    "print(\"Cluster label distribution:\")\n",
    "print(pd.Series(cluster_labels).value_counts())\n"
   ]
  },
  {
   "cell_type": "code",
   "execution_count": null,
   "id": "a7cabcbe",
   "metadata": {},
   "outputs": [],
   "source": [
    "from sklearn.manifold import TSNE\n",
    "k_final = 5\n",
    "tsne = TSNE(n_components=2, perplexity=50, learning_rate='auto', init='pca', random_state=42)\n",
    "X_tsne = tsne.fit_transform(X_pca)\n",
    "\n",
    "plt.figure(figsize=(8, 6))\n",
    "plt.scatter(X_tsne[:, 0], X_tsne[:, 1], c=cluster_labels, s=5, alpha=0.6)\n",
    "plt.title(f\"t-SNE Visualization of Clusters (K={k_final})\")\n",
    "plt.xlabel(\"Dim 1\")\n",
    "plt.ylabel(\"Dim 2\")\n",
    "plt.savefig(f\"tsne_clusters_k{k_final}.png\", dpi=200)\n",
    "plt.show()\n"
   ]
  }
 ],
 "metadata": {
  "kernelspec": {
   "display_name": "riskBorrow",
   "language": "python",
   "name": "python3"
  },
  "language_info": {
   "codemirror_mode": {
    "name": "ipython",
    "version": 3
   },
   "file_extension": ".py",
   "mimetype": "text/x-python",
   "name": "python",
   "nbconvert_exporter": "python",
   "pygments_lexer": "ipython3",
   "version": "3.12.12"
  }
 },
 "nbformat": 4,
 "nbformat_minor": 5
}
